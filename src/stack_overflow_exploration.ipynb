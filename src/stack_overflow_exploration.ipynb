{
 "cells": [
  {
   "cell_type": "markdown",
   "metadata": {},
   "source": [
    "# 2017 Stack Overflow Surveys\n"
   ]
  },
  {
   "cell_type": "markdown",
   "metadata": {},
   "source": [
    "## Import Data\n"
   ]
  },
  {
   "cell_type": "code",
   "execution_count": 1,
   "metadata": {},
   "outputs": [],
   "source": [
    "### Import packages\n",
    "import numpy as np\n",
    "import pandas as pd\n",
    "import matplotlib.pyplot as plt\n",
    "import seaborn as sns\n",
    "#from ydata_profiling import ProfileReport\n",
    "\n",
    "from sklearn.linear_model import LinearRegression\n",
    "from sklearn.model_selection import train_test_split\n",
    "\n",
    "\n",
    "import func\n",
    "import warnings\n",
    "warnings.simplefilter(action='ignore', category=FutureWarning)\n",
    "\n",
    "\n",
    "%matplotlib inline"
   ]
  },
  {
   "cell_type": "code",
   "execution_count": 2,
   "metadata": {},
   "outputs": [],
   "source": [
    "### Load data\n",
    "survey_df = pd.read_csv('../data/survey-results-public.csv')"
   ]
  },
  {
   "cell_type": "markdown",
   "metadata": {},
   "source": [
    "## Understand The Data\n"
   ]
  },
  {
   "cell_type": "code",
   "execution_count": 3,
   "metadata": {},
   "outputs": [],
   "source": [
    "### Initial EDA with ydata-profiling\n",
    "#profile = ProfileReport(survey_df, title=\"Profiling Report\")\n",
    "#profile"
   ]
  },
  {
   "cell_type": "code",
   "execution_count": 4,
   "metadata": {},
   "outputs": [
    {
     "data": {
      "text/plain": [
       "(51392, 154)"
      ]
     },
     "execution_count": 4,
     "metadata": {},
     "output_type": "execute_result"
    }
   ],
   "source": [
    "### Shape\n",
    "survey_df.shape"
   ]
  },
  {
   "cell_type": "code",
   "execution_count": 5,
   "metadata": {},
   "outputs": [
    {
     "data": {
      "text/plain": [
       "Index(['Respondent', 'Professional', 'ProgramHobby', 'Country', 'University',\n",
       "       'EmploymentStatus', 'FormalEducation'],\n",
       "      dtype='object')"
      ]
     },
     "execution_count": 5,
     "metadata": {},
     "output_type": "execute_result"
    }
   ],
   "source": [
    "### Which Columns have no missing data\n",
    "survey_df.columns[(survey_df.isnull().sum() == 0)]\n"
   ]
  },
  {
   "cell_type": "code",
   "execution_count": 6,
   "metadata": {},
   "outputs": [
    {
     "data": {
      "text/plain": [
       "Index(['YearsCodedJobPast', 'WebDeveloperType', 'MobileDeveloperType',\n",
       "       'NonDeveloperType', 'ExCoderReturn', 'ExCoderNotForMe',\n",
       "       'ExCoderBalance', 'ExCoder10Years', 'ExCoderBelonged', 'ExCoderSkills',\n",
       "       'ExCoderWillNotCode', 'ExCoderActive', 'TimeAfterBootcamp',\n",
       "       'ExpectedSalary'],\n",
       "      dtype='object')"
      ]
     },
     "execution_count": 6,
     "metadata": {},
     "output_type": "execute_result"
    }
   ],
   "source": [
    "### Which columns have the most missing data?\n",
    "\n",
    "# Set threshold for \"most\" ex) more than 75%\n",
    "threshold = .75\n",
    "\n",
    "# Print columns\n",
    "survey_df.columns[(survey_df.isnull().sum() > threshold*survey_df.shape[0])]\n"
   ]
  },
  {
   "cell_type": "code",
   "execution_count": 7,
   "metadata": {},
   "outputs": [
    {
     "data": {
      "text/plain": [
       "0"
      ]
     },
     "execution_count": 7,
     "metadata": {},
     "output_type": "execute_result"
    }
   ],
   "source": [
    "# Any duplicates?\n",
    "survey_df.duplicated().sum()"
   ]
  },
  {
   "cell_type": "markdown",
   "metadata": {},
   "source": [
    "## Initial Business Questions\n",
    "\n",
    "_(and potential factors of interest)_\n"
   ]
  },
  {
   "cell_type": "markdown",
   "metadata": {},
   "source": [
    "**How to enter the field?**\n",
    "* CousinEducation\n",
    "\n",
    "**What are Job placement and salary rates for bootcamps?**\n",
    "* TimeAfterBootcamp\n",
    "\n",
    "**What factors help predict salary?**\n",
    "* Many\n",
    "\n",
    "**What factors help predict job satisfaction?**\n",
    "*  Many\n"
   ]
  },
  {
   "cell_type": "markdown",
   "metadata": {},
   "source": [
    "## Data Exploration\n"
   ]
  },
  {
   "cell_type": "markdown",
   "metadata": {},
   "source": [
    "### How to enter the field?\n"
   ]
  },
  {
   "cell_type": "code",
   "execution_count": 8,
   "metadata": {},
   "outputs": [],
   "source": [
    "schema = pd.read_csv(\"../data/survey-results-schema.csv\")"
   ]
  },
  {
   "cell_type": "code",
   "execution_count": 9,
   "metadata": {},
   "outputs": [
    {
     "data": {
      "text/plain": [
       "86    Let's pretend you have a distant cousin. They ...\n",
       "Name: Question, dtype: object"
      ]
     },
     "execution_count": 9,
     "metadata": {},
     "output_type": "execute_result"
    }
   ],
   "source": [
    "### CousinEducation Description\n",
    "func.get_description(\"CousinEducation\", schema)"
   ]
  },
  {
   "cell_type": "code",
   "execution_count": 10,
   "metadata": {},
   "outputs": [
    {
     "data": {
      "text/html": [
       "<div>\n",
       "<style scoped>\n",
       "    .dataframe tbody tr th:only-of-type {\n",
       "        vertical-align: middle;\n",
       "    }\n",
       "\n",
       "    .dataframe tbody tr th {\n",
       "        vertical-align: top;\n",
       "    }\n",
       "\n",
       "    .dataframe thead th {\n",
       "        text-align: right;\n",
       "    }\n",
       "</style>\n",
       "<table border=\"1\" class=\"dataframe\">\n",
       "  <thead>\n",
       "    <tr style=\"text-align: right;\">\n",
       "      <th></th>\n",
       "      <th>Method</th>\n",
       "      <th>count</th>\n",
       "    </tr>\n",
       "  </thead>\n",
       "  <tbody>\n",
       "    <tr>\n",
       "      <th>0</th>\n",
       "      <td>Take online courses; Buy books and work throug...</td>\n",
       "      <td>711</td>\n",
       "    </tr>\n",
       "    <tr>\n",
       "      <th>1</th>\n",
       "      <td>Take online courses</td>\n",
       "      <td>551</td>\n",
       "    </tr>\n",
       "    <tr>\n",
       "      <th>2</th>\n",
       "      <td>None of these</td>\n",
       "      <td>523</td>\n",
       "    </tr>\n",
       "    <tr>\n",
       "      <th>3</th>\n",
       "      <td>Take online courses; Part-time/evening courses...</td>\n",
       "      <td>479</td>\n",
       "    </tr>\n",
       "    <tr>\n",
       "      <th>4</th>\n",
       "      <td>Take online courses; Bootcamp; Part-time/eveni...</td>\n",
       "      <td>465</td>\n",
       "    </tr>\n",
       "    <tr>\n",
       "      <th>...</th>\n",
       "      <td>...</td>\n",
       "      <td>...</td>\n",
       "    </tr>\n",
       "    <tr>\n",
       "      <th>730</th>\n",
       "      <td>Master's degree; Contribute to open source; Pa...</td>\n",
       "      <td>1</td>\n",
       "    </tr>\n",
       "    <tr>\n",
       "      <th>731</th>\n",
       "      <td>Return to college; Participate in online codin...</td>\n",
       "      <td>1</td>\n",
       "    </tr>\n",
       "    <tr>\n",
       "      <th>732</th>\n",
       "      <td>Return to college; Get a job as a QA tester; P...</td>\n",
       "      <td>1</td>\n",
       "    </tr>\n",
       "    <tr>\n",
       "      <th>733</th>\n",
       "      <td>Return to college; Participate in hackathons; ...</td>\n",
       "      <td>1</td>\n",
       "    </tr>\n",
       "    <tr>\n",
       "      <th>734</th>\n",
       "      <td>Master's degree; Take online courses; Other</td>\n",
       "      <td>1</td>\n",
       "    </tr>\n",
       "  </tbody>\n",
       "</table>\n",
       "<p>735 rows × 2 columns</p>\n",
       "</div>"
      ],
      "text/plain": [
       "                                                Method  count\n",
       "0    Take online courses; Buy books and work throug...    711\n",
       "1                                  Take online courses    551\n",
       "2                                        None of these    523\n",
       "3    Take online courses; Part-time/evening courses...    479\n",
       "4    Take online courses; Bootcamp; Part-time/eveni...    465\n",
       "..                                                 ...    ...\n",
       "730  Master's degree; Contribute to open source; Pa...      1\n",
       "731  Return to college; Participate in online codin...      1\n",
       "732  Return to college; Get a job as a QA tester; P...      1\n",
       "733  Return to college; Participate in hackathons; ...      1\n",
       "734        Master's degree; Take online courses; Other      1\n",
       "\n",
       "[735 rows x 2 columns]"
      ]
     },
     "execution_count": 10,
     "metadata": {},
     "output_type": "execute_result"
    }
   ],
   "source": [
    "### CousinEducation value counts\n",
    "study = survey_df.CousinEducation.value_counts().reset_index()\n",
    "study.rename(columns={\"CousinEducation\":\"Method\"}, inplace=True)\n",
    "study"
   ]
  },
  {
   "cell_type": "code",
   "execution_count": 11,
   "metadata": {},
   "outputs": [
    {
     "data": {
      "text/html": [
       "<div>\n",
       "<style scoped>\n",
       "    .dataframe tbody tr th:only-of-type {\n",
       "        vertical-align: middle;\n",
       "    }\n",
       "\n",
       "    .dataframe tbody tr th {\n",
       "        vertical-align: top;\n",
       "    }\n",
       "\n",
       "    .dataframe thead th {\n",
       "        text-align: right;\n",
       "    }\n",
       "</style>\n",
       "<table border=\"1\" class=\"dataframe\">\n",
       "  <thead>\n",
       "    <tr style=\"text-align: right;\">\n",
       "      <th></th>\n",
       "      <th>Method</th>\n",
       "      <th>Count</th>\n",
       "    </tr>\n",
       "  </thead>\n",
       "  <tbody>\n",
       "    <tr>\n",
       "      <th>0</th>\n",
       "      <td>Take online courses</td>\n",
       "      <td>229</td>\n",
       "    </tr>\n",
       "    <tr>\n",
       "      <th>7</th>\n",
       "      <td>Contribute to open source</td>\n",
       "      <td>228</td>\n",
       "    </tr>\n",
       "    <tr>\n",
       "      <th>1</th>\n",
       "      <td>Buy books and work through the exercises</td>\n",
       "      <td>226</td>\n",
       "    </tr>\n",
       "    <tr>\n",
       "      <th>3</th>\n",
       "      <td>Part-time/evening courses</td>\n",
       "      <td>220</td>\n",
       "    </tr>\n",
       "    <tr>\n",
       "      <th>8</th>\n",
       "      <td>Conferences/meet-ups</td>\n",
       "      <td>217</td>\n",
       "    </tr>\n",
       "    <tr>\n",
       "      <th>6</th>\n",
       "      <td>Return to college</td>\n",
       "      <td>216</td>\n",
       "    </tr>\n",
       "    <tr>\n",
       "      <th>4</th>\n",
       "      <td>Bootcamp</td>\n",
       "      <td>212</td>\n",
       "    </tr>\n",
       "    <tr>\n",
       "      <th>10</th>\n",
       "      <td>Participate in online coding competitions</td>\n",
       "      <td>210</td>\n",
       "    </tr>\n",
       "    <tr>\n",
       "      <th>11</th>\n",
       "      <td>Participate in hackathons</td>\n",
       "      <td>209</td>\n",
       "    </tr>\n",
       "    <tr>\n",
       "      <th>9</th>\n",
       "      <td>Get a job as a QA tester</td>\n",
       "      <td>204</td>\n",
       "    </tr>\n",
       "    <tr>\n",
       "      <th>12</th>\n",
       "      <td>Master's degree</td>\n",
       "      <td>201</td>\n",
       "    </tr>\n",
       "    <tr>\n",
       "      <th>5</th>\n",
       "      <td>Other</td>\n",
       "      <td>187</td>\n",
       "    </tr>\n",
       "    <tr>\n",
       "      <th>2</th>\n",
       "      <td>None of these</td>\n",
       "      <td>2</td>\n",
       "    </tr>\n",
       "  </tbody>\n",
       "</table>\n",
       "</div>"
      ],
      "text/plain": [
       "                                       Method  Count\n",
       "0                         Take online courses    229\n",
       "7                   Contribute to open source    228\n",
       "1    Buy books and work through the exercises    226\n",
       "3                   Part-time/evening courses    220\n",
       "8                        Conferences/meet-ups    217\n",
       "6                           Return to college    216\n",
       "4                                    Bootcamp    212\n",
       "10  Participate in online coding competitions    210\n",
       "11                  Participate in hackathons    209\n",
       "9                    Get a job as a QA tester    204\n",
       "12                            Master's degree    201\n",
       "5                                       Other    187\n",
       "2                               None of these      2"
      ]
     },
     "execution_count": 11,
     "metadata": {},
     "output_type": "execute_result"
    }
   ],
   "source": [
    "### Get counts for unique study methods\n",
    "methods = func.separate_values(study, \"Method\")\n",
    "methods.sort_values(by=\"Count\", ascending=False, inplace=True)\n",
    "methods"
   ]
  },
  {
   "cell_type": "code",
   "execution_count": 12,
   "metadata": {},
   "outputs": [
    {
     "data": {
      "image/png": "[encoded data removed]",
      "text/plain": [
       "<Figure size 640x480 with 1 Axes>"
      ]
     },
     "metadata": {},
     "output_type": "display_data"
    }
   ],
   "source": [
    "### Bar Plot\n",
    "sns.barplot(data=methods, y=\"Method\", x=\"Count\")\n",
    "plt.title(\"Methods for Education\");\n"
   ]
  },
  {
   "cell_type": "markdown",
   "metadata": {},
   "source": [
    "> Could people with a degree be biased towards those methods?\n"
   ]
  },
  {
   "cell_type": "code",
   "execution_count": 13,
   "metadata": {},
   "outputs": [
    {
     "name": "stdout",
     "output_type": "stream",
     "text": [
      "0.23069738480697385\n"
     ]
    }
   ],
   "source": [
    "### Create boolean column for \"HigherEd\"\n",
    "# Define higher ed mapping function\n",
    "def is_higher_ed(formal_ed_str):\n",
    "    '''\n",
    "    INPUT:\n",
    "        formal_ed_str: string of one of the values in the column \"FormalEducation\"\n",
    "\n",
    "    OUTPUT:\n",
    "        return 1 if the string is in (\"Master's degree\", \"Doctoral\", \"Professional degree\")\n",
    "        else return 0\n",
    "    '''\n",
    "\n",
    "    if formal_ed_str in (\"Master's degree\", \"Doctoral\", \"Professional degree\"):\n",
    "        return 1\n",
    "    else:\n",
    "        return 0\n",
    "\n",
    "# Create \"HigherEd\" column \n",
    "survey_df[\"HigherEd\"] = survey_df[\"FormalEducation\"].apply(is_higher_ed)\n",
    "\n",
    "# Check pct higher ed\n",
    "higher_ed_pct = survey_df[\"HigherEd\"].mean()\n",
    "print(higher_ed_pct)"
   ]
  },
  {
   "cell_type": "code",
   "execution_count": 14,
   "metadata": {},
   "outputs": [
    {
     "name": "stdout",
     "output_type": "stream",
     "text": [
      "4    1\n",
      "6    1\n",
      "Name: HigherEd, dtype: int64\n",
      "0    0\n",
      "1    0\n",
      "Name: HigherEd, dtype: int64\n"
     ]
    },
    {
     "data": {
      "text/html": [
       "<style type=\"text/css\">\n",
       "#T_b557b_row0_col3 {\n",
       "  width: 10em;\n",
       "  background: linear-gradient(90deg, transparent 38.3%, #5fba7d 38.3%, #5fba7d 100.0%, transparent 100.0%);\n",
       "}\n",
       "#T_b557b_row1_col3 {\n",
       "  width: 10em;\n",
       "  background: linear-gradient(90deg, transparent 38.3%, #5fba7d 38.3%, #5fba7d 76.1%, transparent 76.1%);\n",
       "}\n",
       "#T_b557b_row2_col3 {\n",
       "  width: 10em;\n",
       "  background: linear-gradient(90deg, transparent 38.3%, #5fba7d 38.3%, #5fba7d 39.0%, transparent 39.0%);\n",
       "}\n",
       "#T_b557b_row3_col3 {\n",
       "  width: 10em;\n",
       "  background: linear-gradient(90deg, transparent 38.3%, #5fba7d 38.3%, #5fba7d 55.0%, transparent 55.0%);\n",
       "}\n",
       "#T_b557b_row4_col3 {\n",
       "  width: 10em;\n",
       "  background: linear-gradient(90deg, transparent 24.4%, #d65f5f 24.4%, #d65f5f 38.3%, transparent 38.3%);\n",
       "}\n",
       "#T_b557b_row5_col3 {\n",
       "  width: 10em;\n",
       "  background: linear-gradient(90deg, transparent 15.8%, #d65f5f 15.8%, #d65f5f 38.3%, transparent 38.3%);\n",
       "}\n",
       "#T_b557b_row6_col3 {\n",
       "  width: 10em;\n",
       "  background: linear-gradient(90deg, transparent 38.3%, #5fba7d 38.3%, #5fba7d 68.6%, transparent 68.6%);\n",
       "}\n",
       "#T_b557b_row7_col3 {\n",
       "  width: 10em;\n",
       "  background: linear-gradient(90deg, transparent 38.2%, #d65f5f 38.2%, #d65f5f 38.3%, transparent 38.3%);\n",
       "}\n",
       "#T_b557b_row8_col3 {\n",
       "  width: 10em;\n",
       "  background: linear-gradient(90deg, #d65f5f 38.3%, transparent 38.3%);\n",
       "}\n",
       "#T_b557b_row9_col3 {\n",
       "  width: 10em;\n",
       "  background: linear-gradient(90deg, transparent 8.1%, #d65f5f 8.1%, #d65f5f 38.3%, transparent 38.3%);\n",
       "}\n",
       "#T_b557b_row10_col3 {\n",
       "  width: 10em;\n",
       "  background: linear-gradient(90deg, transparent 38.3%, #5fba7d 38.3%, #5fba7d 46.5%, transparent 46.5%);\n",
       "}\n",
       "#T_b557b_row11_col3 {\n",
       "  width: 10em;\n",
       "  background: linear-gradient(90deg, transparent 22.7%, #d65f5f 22.7%, #d65f5f 38.3%, transparent 38.3%);\n",
       "}\n",
       "#T_b557b_row12_col3 {\n",
       "  width: 10em;\n",
       "  background: linear-gradient(90deg, transparent 3.7%, #d65f5f 3.7%, #d65f5f 38.3%, transparent 38.3%);\n",
       "}\n",
       "</style>\n",
       "<table id=\"T_b557b\">\n",
       "  <thead>\n",
       "    <tr>\n",
       "      <th class=\"blank level0\" >&nbsp;</th>\n",
       "      <th id=\"T_b557b_level0_col0\" class=\"col_heading level0 col0\" >Method</th>\n",
       "      <th id=\"T_b557b_level0_col1\" class=\"col_heading level0 col1\" >ed_1_perc</th>\n",
       "      <th id=\"T_b557b_level0_col2\" class=\"col_heading level0 col2\" >ed_0_perc</th>\n",
       "      <th id=\"T_b557b_level0_col3\" class=\"col_heading level0 col3\" >Diff_HigherEd_Vals</th>\n",
       "    </tr>\n",
       "  </thead>\n",
       "  <tbody>\n",
       "    <tr>\n",
       "      <th id=\"T_b557b_level0_row0\" class=\"row_heading level0 row0\" >0</th>\n",
       "      <td id=\"T_b557b_row0_col0\" class=\"data row0 col0\" >Take online courses</td>\n",
       "      <td id=\"T_b557b_row0_col1\" class=\"data row0 col1\" >0.108312</td>\n",
       "      <td id=\"T_b557b_row0_col2\" class=\"data row0 col2\" >0.091687</td>\n",
       "      <td id=\"T_b557b_row0_col3\" class=\"data row0 col3\" >0.016625</td>\n",
       "    </tr>\n",
       "    <tr>\n",
       "      <th id=\"T_b557b_level0_row1\" class=\"row_heading level0 row1\" >1</th>\n",
       "      <td id=\"T_b557b_row1_col0\" class=\"data row1 col0\" >Buy books and work through the exercises</td>\n",
       "      <td id=\"T_b557b_row1_col1\" class=\"data row1 col1\" >0.100252</td>\n",
       "      <td id=\"T_b557b_row1_col2\" class=\"data row1 col2\" >0.090057</td>\n",
       "      <td id=\"T_b557b_row1_col3\" class=\"data row1 col3\" >0.010195</td>\n",
       "    </tr>\n",
       "    <tr>\n",
       "      <th id=\"T_b557b_level0_row2\" class=\"row_heading level0 row2\" >2</th>\n",
       "      <td id=\"T_b557b_row2_col0\" class=\"data row2 col0\" >None of these</td>\n",
       "      <td id=\"T_b557b_row2_col1\" class=\"data row2 col1\" >0.001008</td>\n",
       "      <td id=\"T_b557b_row2_col2\" class=\"data row2 col2\" >0.000815</td>\n",
       "      <td id=\"T_b557b_row2_col3\" class=\"data row2 col3\" >0.000193</td>\n",
       "    </tr>\n",
       "    <tr>\n",
       "      <th id=\"T_b557b_level0_row3\" class=\"row_heading level0 row3\" >3</th>\n",
       "      <td id=\"T_b557b_row3_col0\" class=\"data row3 col0\" >Part-time/evening courses</td>\n",
       "      <td id=\"T_b557b_row3_col1\" class=\"data row3 col1\" >0.089673</td>\n",
       "      <td id=\"T_b557b_row3_col2\" class=\"data row3 col2\" >0.085167</td>\n",
       "      <td id=\"T_b557b_row3_col3\" class=\"data row3 col3\" >0.004505</td>\n",
       "    </tr>\n",
       "    <tr>\n",
       "      <th id=\"T_b557b_level0_row4\" class=\"row_heading level0 row4\" >4</th>\n",
       "      <td id=\"T_b557b_row4_col0\" class=\"data row4 col0\" >Bootcamp</td>\n",
       "      <td id=\"T_b557b_row4_col1\" class=\"data row4 col1\" >0.080605</td>\n",
       "      <td id=\"T_b557b_row4_col2\" class=\"data row4 col2\" >0.084352</td>\n",
       "      <td id=\"T_b557b_row4_col3\" class=\"data row4 col3\" >-0.003748</td>\n",
       "    </tr>\n",
       "    <tr>\n",
       "      <th id=\"T_b557b_level0_row5\" class=\"row_heading level0 row5\" >5</th>\n",
       "      <td id=\"T_b557b_row5_col0\" class=\"data row5 col0\" >Return to college</td>\n",
       "      <td id=\"T_b557b_row5_col1\" class=\"data row5 col1\" >0.079093</td>\n",
       "      <td id=\"T_b557b_row5_col2\" class=\"data row5 col2\" >0.085167</td>\n",
       "      <td id=\"T_b557b_row5_col3\" class=\"data row5 col3\" >-0.006074</td>\n",
       "    </tr>\n",
       "    <tr>\n",
       "      <th id=\"T_b557b_level0_row6\" class=\"row_heading level0 row6\" >6</th>\n",
       "      <td id=\"T_b557b_row6_col0\" class=\"data row6 col0\" >Contribute to open source</td>\n",
       "      <td id=\"T_b557b_row6_col1\" class=\"data row6 col1\" >0.100252</td>\n",
       "      <td id=\"T_b557b_row6_col2\" class=\"data row6 col2\" >0.092095</td>\n",
       "      <td id=\"T_b557b_row6_col3\" class=\"data row6 col3\" >0.008157</td>\n",
       "    </tr>\n",
       "    <tr>\n",
       "      <th id=\"T_b557b_level0_row7\" class=\"row_heading level0 row7\" >7</th>\n",
       "      <td id=\"T_b557b_row7_col0\" class=\"data row7 col0\" >Conferences/meet-ups</td>\n",
       "      <td id=\"T_b557b_row7_col1\" class=\"data row7 col1\" >0.085139</td>\n",
       "      <td id=\"T_b557b_row7_col2\" class=\"data row7 col2\" >0.085167</td>\n",
       "      <td id=\"T_b557b_row7_col3\" class=\"data row7 col3\" >-0.000029</td>\n",
       "    </tr>\n",
       "    <tr>\n",
       "      <th id=\"T_b557b_level0_row8\" class=\"row_heading level0 row8\" >8</th>\n",
       "      <td id=\"T_b557b_row8_col0\" class=\"data row8 col0\" >Other</td>\n",
       "      <td id=\"T_b557b_row8_col1\" class=\"data row8 col1\" >0.058942</td>\n",
       "      <td id=\"T_b557b_row8_col2\" class=\"data row8 col2\" >0.069275</td>\n",
       "      <td id=\"T_b557b_row8_col3\" class=\"data row8 col3\" >-0.010333</td>\n",
       "    </tr>\n",
       "    <tr>\n",
       "      <th id=\"T_b557b_level0_row9\" class=\"row_heading level0 row9\" >9</th>\n",
       "      <td id=\"T_b557b_row9_col0\" class=\"data row9 col0\" >Get a job as a QA tester</td>\n",
       "      <td id=\"T_b557b_row9_col1\" class=\"data row9 col1\" >0.072544</td>\n",
       "      <td id=\"T_b557b_row9_col2\" class=\"data row9 col2\" >0.080685</td>\n",
       "      <td id=\"T_b557b_row9_col3\" class=\"data row9 col3\" >-0.008141</td>\n",
       "    </tr>\n",
       "    <tr>\n",
       "      <th id=\"T_b557b_level0_row10\" class=\"row_heading level0 row10\" >10</th>\n",
       "      <td id=\"T_b557b_row10_col0\" class=\"data row10 col0\" >Master's degree</td>\n",
       "      <td id=\"T_b557b_row10_col1\" class=\"data row10 col1\" >0.077582</td>\n",
       "      <td id=\"T_b557b_row10_col2\" class=\"data row10 col2\" >0.075387</td>\n",
       "      <td id=\"T_b557b_row10_col3\" class=\"data row10 col3\" >0.002195</td>\n",
       "    </tr>\n",
       "    <tr>\n",
       "      <th id=\"T_b557b_level0_row11\" class=\"row_heading level0 row11\" >11</th>\n",
       "      <td id=\"T_b557b_row11_col0\" class=\"data row11 col0\" >Participate in online coding competitions</td>\n",
       "      <td id=\"T_b557b_row11_col1\" class=\"data row11 col1\" >0.076071</td>\n",
       "      <td id=\"T_b557b_row11_col2\" class=\"data row11 col2\" >0.080277</td>\n",
       "      <td id=\"T_b557b_row11_col3\" class=\"data row11 col3\" >-0.004207</td>\n",
       "    </tr>\n",
       "    <tr>\n",
       "      <th id=\"T_b557b_level0_row12\" class=\"row_heading level0 row12\" >12</th>\n",
       "      <td id=\"T_b557b_row12_col0\" class=\"data row12 col0\" >Participate in hackathons</td>\n",
       "      <td id=\"T_b557b_row12_col1\" class=\"data row12 col1\" >0.070529</td>\n",
       "      <td id=\"T_b557b_row12_col2\" class=\"data row12 col2\" >0.079870</td>\n",
       "      <td id=\"T_b557b_row12_col3\" class=\"data row12 col3\" >-0.009341</td>\n",
       "    </tr>\n",
       "  </tbody>\n",
       "</table>\n"
      ],
      "text/plain": [
       "<pandas.io.formats.style.Styler at 0x7f83b6805d90>"
      ]
     },
     "execution_count": 14,
     "metadata": {},
     "output_type": "execute_result"
    }
   ],
   "source": [
    "### Plot difference in higher ed values across methods\n",
    "\n",
    "# Subset df to only those with HigherEd of 1\n",
    "ed_1 = survey_df[survey_df['HigherEd'] == 1]\n",
    "# Subset df to only those with HigherEd of 0\n",
    "ed_0 = survey_df[survey_df['HigherEd'] == 0]\n",
    "\n",
    "# Check higher ed values make sense\n",
    "print(ed_1.HigherEd.head(2))\n",
    "print(ed_0.HigherEd.head(2))\n",
    "\n",
    "# Get proportions for each method count\n",
    "ed_1_perc = func.get_df_props(ed_1)\n",
    "ed_0_perc = func.get_df_props(ed_0)\n",
    "\n",
    "# Merge proportion dataframes and plot\n",
    "comp_df = ed_1_perc.merge(ed_0_perc, on=\"Method\")\n",
    "comp_df.columns = ['Method', 'ed_1_perc', 'ed_0_perc']\n",
    "comp_df['Diff_HigherEd_Vals'] = comp_df['ed_1_perc'] - comp_df['ed_0_perc']\n",
    "comp_df.style.bar(subset=['Diff_HigherEd_Vals'], align='mid', color=['#d65f5f', '#5fba7d'])"
   ]
  },
  {
   "cell_type": "markdown",
   "metadata": {},
   "source": [
    "The highest recommended methods for breaking into data science were taking online courses and contributing to open-source projects. Even individuals that received higher education recommend these methods.\n"
   ]
  },
  {
   "cell_type": "markdown",
   "metadata": {},
   "source": [
    "### What are job placement and salary for bootcamp grads?\n"
   ]
  },
  {
   "cell_type": "code",
   "execution_count": 15,
   "metadata": {},
   "outputs": [
    {
     "data": {
      "text/plain": [
       "(2602, 155)"
      ]
     },
     "execution_count": 15,
     "metadata": {},
     "output_type": "execute_result"
    }
   ],
   "source": [
    "### Get dataframes with bootcamp participants separated\n",
    "bootcamp_df = survey_df[survey_df.TimeAfterBootcamp.isnull() == False]\n",
    "not_bootcamp_df = survey_df[survey_df.TimeAfterBootcamp.isnull() == True]\n",
    "bootcamp_df.shape"
   ]
  },
  {
   "cell_type": "code",
   "execution_count": 16,
   "metadata": {},
   "outputs": [
    {
     "name": "stdout",
     "output_type": "stream",
     "text": [
      "TimeAfterBootcamp\n",
      "I already had a job as a developer when I started the program    0.458493\n",
      "Immediately upon graduating                                      0.112990\n",
      "I got a job as a developer before completing the program         0.096849\n",
      "One to three months                                              0.087625\n",
      "I haven't gotten a job as a developer yet                        0.081091\n",
      "Less than a month                                                0.059954\n",
      "Four to six months                                               0.040354\n",
      "Longer than a year                                               0.032667\n",
      "Six months to a year                                             0.029977\n",
      "Name: count, dtype: float64\n",
      "\n",
      "#####\n",
      "\n",
      "TimeAfterBootcamp\n",
      "Immediately upon graduating                                 0.208659\n",
      "I got a job as a developer before completing the program    0.178850\n",
      "One to three months                                         0.161817\n",
      "I haven't gotten a job as a developer yet                   0.149752\n",
      "Less than a month                                           0.110717\n",
      "Four to six months                                          0.074521\n",
      "Longer than a year                                          0.060326\n",
      "Six months to a year                                        0.055358\n",
      "Name: count, dtype: float64\n"
     ]
    }
   ],
   "source": [
    "### What's the distribution of time from bootcamp to job\n",
    "print(bootcamp_df[\"TimeAfterBootcamp\"].value_counts()/bootcamp_df.shape[0])\n",
    "\n",
    "# Remove those who already had a job\n",
    "no_job = bootcamp_df.query(\"TimeAfterBootcamp != 'I already had a job as a developer when I started the program'\")\n",
    "\n",
    "print(\"\\n#####\\n\")\n",
    "print(no_job[\"TimeAfterBootcamp\"].value_counts()/no_job.shape[0])"
   ]
  },
  {
   "cell_type": "markdown",
   "metadata": {},
   "source": [
    "The 46% of bootcamp grads that already had jobs don't tell us much about how long it takes for bootcamp grads to actually get a job. After removing that, we see that 38% got a job by the end of the program and another 35% had a job within 6 months.\n"
   ]
  },
  {
   "cell_type": "code",
   "execution_count": 17,
   "metadata": {},
   "outputs": [
    {
     "data": {
      "image/png": "[encoded data removed]",
      "text/plain": [
       "<Figure size 640x480 with 1 Axes>"
      ]
     },
     "metadata": {},
     "output_type": "display_data"
    }
   ],
   "source": [
    "### What is the distribution of salary for bootcamp grads?\n",
    "plt.hist(data=bootcamp_df, x='Salary', bins=25);"
   ]
  },
  {
   "cell_type": "markdown",
   "metadata": {},
   "source": [
    "There's a large portion of responses at 0, which could be due to those who haven't found jobs yet. The right-skewed plot is in line with how most jobs taper off at higher incomes. Given how widespread the bootcamp data is, it doesn't seem like we can learn much about salary from it.\n"
   ]
  },
  {
   "cell_type": "markdown",
   "metadata": {},
   "source": [
    "### What factors help predict Job Satisfaction?\n"
   ]
  },
  {
   "cell_type": "code",
   "execution_count": 18,
   "metadata": {},
   "outputs": [
    {
     "data": {
      "text/plain": [
       "count    40376.000000\n",
       "mean         6.957078\n",
       "std          2.167652\n",
       "min          0.000000\n",
       "25%          6.000000\n",
       "50%          7.000000\n",
       "75%          8.000000\n",
       "max         10.000000\n",
       "Name: JobSatisfaction, dtype: float64"
      ]
     },
     "execution_count": 18,
     "metadata": {},
     "output_type": "execute_result"
    }
   ],
   "source": [
    "### Job Satisfaction Descriptive Stats\n",
    "survey_df.JobSatisfaction.describe()"
   ]
  },
  {
   "cell_type": "code",
   "execution_count": 19,
   "metadata": {},
   "outputs": [
    {
     "data": {
      "text/plain": [
       "0.21435242839352428"
      ]
     },
     "execution_count": 19,
     "metadata": {},
     "output_type": "execute_result"
    }
   ],
   "source": [
    "### Proportion of missing values\n",
    "survey_df.JobSatisfaction.isnull().mean()"
   ]
  },
  {
   "cell_type": "code",
   "execution_count": 20,
   "metadata": {},
   "outputs": [
    {
     "data": {
      "text/plain": [
       "EmploymentStatus\n",
       "Employed full-time                                      6.926805\n",
       "Employed part-time                                      6.821468\n",
       "I prefer not to say                                          NaN\n",
       "Independent contractor, freelancer, or self-employed    7.252823\n",
       "Not employed, and not looking for work                  7.000000\n",
       "Not employed, but looking for work                           NaN\n",
       "Retired                                                      NaN\n",
       "Name: JobSatisfaction, dtype: float64"
      ]
     },
     "execution_count": 20,
     "metadata": {},
     "output_type": "execute_result"
    }
   ],
   "source": [
    "### Which employment groups have the highest job satisfaction?\n",
    "survey_df.groupby(\"EmploymentStatus\").JobSatisfaction.mean()"
   ]
  },
  {
   "cell_type": "markdown",
   "metadata": {},
   "source": [
    "The surveyed developers that work for themselves had the highest average job satisfaction \n"
   ]
  },
  {
   "cell_type": "code",
   "execution_count": 21,
   "metadata": {},
   "outputs": [
    {
     "data": {
      "text/plain": [
       "CompanySize\n",
       "5,000 to 9,999 employees    6.748153\n",
       "10,000 or more employees    6.810345\n",
       "I don't know                6.842679\n",
       "500 to 999 employees        6.883661\n",
       "1,000 to 4,999 employees    6.884509\n",
       "100 to 499 employees        6.937089\n",
       "20 to 99 employees          6.949092\n",
       "10 to 19 employees          7.000799\n",
       "Fewer than 10 employees     7.008749\n",
       "I prefer not to answer      7.280835\n",
       "Name: JobSatisfaction, dtype: float64"
      ]
     },
     "execution_count": 21,
     "metadata": {},
     "output_type": "execute_result"
    }
   ],
   "source": [
    "### Do smaller companies produce higher job satisfaction?\n",
    "survey_df.groupby(\"CompanySize\").JobSatisfaction.mean().sort_values()"
   ]
  },
  {
   "cell_type": "markdown",
   "metadata": {},
   "source": [
    "Smaller companies did have higher average job satisfaction scores.\n"
   ]
  },
  {
   "cell_type": "code",
   "execution_count": 22,
   "metadata": {},
   "outputs": [
    {
     "data": {
      "text/plain": [
       "HomeRemote\n",
       "Never                                                      6.632502\n",
       "It's complicated                                           6.840830\n",
       "More than half, but not all, the time                      6.953184\n",
       "About half the time                                        6.973702\n",
       "A few days each month                                      7.077509\n",
       "Less than half the time, but at least one day each week    7.120125\n",
       "All or almost all the time (I'm full-time remote)          7.388430\n",
       "Name: JobSatisfaction, dtype: float64"
      ]
     },
     "execution_count": 22,
     "metadata": {},
     "output_type": "execute_result"
    }
   ],
   "source": [
    "### Does remote work have an impact on job satisfaction?\n",
    "survey_df.groupby(\"HomeRemote\").JobSatisfaction.mean().sort_values()"
   ]
  },
  {
   "cell_type": "markdown",
   "metadata": {},
   "source": [
    "The highest average always work remote and the lowest average never worked remote, with a mixed range inbetween."
   ]
  },
  {
   "cell_type": "code",
   "execution_count": 23,
   "metadata": {},
   "outputs": [
    {
     "data": {
      "text/plain": [
       "FormalEducation\n",
       "I never completed any formal education                               6.833333\n",
       "Bachelor's degree                                                    6.866363\n",
       "Master's degree                                                      6.953151\n",
       "Primary/elementary school                                            6.956897\n",
       "I prefer not to answer                                               7.005682\n",
       "Some college/university study without earning a bachelor's degree    7.081334\n",
       "Professional degree                                                  7.087459\n",
       "Secondary school                                                     7.143082\n",
       "Doctoral degree                                                      7.348857\n",
       "Name: JobSatisfaction, dtype: float64"
      ]
     },
     "execution_count": 23,
     "metadata": {},
     "output_type": "execute_result"
    }
   ],
   "source": [
    "### Does having more schooling impact job satisfaction?\n",
    "survey_df.groupby(\"FormalEducation\").JobSatisfaction.mean().sort_values()"
   ]
  },
  {
   "cell_type": "markdown",
   "metadata": {},
   "source": [
    "Those with doctoral degrees had the highest avergage job satisfaction."
   ]
  },
  {
   "cell_type": "markdown",
   "metadata": {},
   "source": [
    "## Predicting Salary"
   ]
  },
  {
   "cell_type": "code",
   "execution_count": 24,
   "metadata": {},
   "outputs": [
    {
     "name": "stdout",
     "output_type": "stream",
     "text": [
      "r-squared score using quantitative variables was 0.04072431792894726 on 9023 values\n"
     ]
    }
   ],
   "source": [
    "### Create linear regression model with numeric vars\n",
    "num_vars = survey_df.copy()[[\"Salary\", \"CareerSatisfaction\", \"HoursPerWeek\", \"JobSatisfaction\", \"StackOverflowSatisfaction\"]]\n",
    "\n",
    "### Fix missing values in numerical variables\n",
    "# remove rows with missing salary\n",
    "num_vars.dropna(subset=[\"Salary\"], axis=0, inplace=True)\n",
    "\n",
    "# Fill other NaN values with mean\n",
    "fill_mean = lambda col: col.fillna(col.mean())\n",
    "num_vars = num_vars.apply(fill_mean)\n",
    "\n",
    "# Linear Model\n",
    "X = num_vars[[\"CareerSatisfaction\", \"HoursPerWeek\", \"JobSatisfaction\", \"StackOverflowSatisfaction\"]]\n",
    "y = num_vars[[\"Salary\"]]\n",
    "reg, X_train, X_test, y_train, y_test = \\\n",
    "    func.create_linear_mod(X, y)\n",
    "\n",
    "# Score model\n",
    "score = reg.score(X_test, y_test)\n",
    "print(\"r-squared score using quantitative variables was {} on {} values\".format(score, X_train.shape[0]))"
   ]
  },
  {
   "cell_type": "code",
   "execution_count": 25,
   "metadata": {},
   "outputs": [
    {
     "name": "stdout",
     "output_type": "stream",
     "text": [
      "r-squared training score using Catagorical & Numerical variables was 1.0 on 907 values\n",
      "r-squared test score using Catagorical & Numerical variables was 0.5786113868436236 on 907 values\n"
     ]
    }
   ],
   "source": [
    "### Create linear regression model with all vars\n",
    "# Pull a list of the column names of the categorical variables\n",
    "cat_df = survey_df.select_dtypes(include=['object'])\n",
    "cat_cols = cat_df.columns\n",
    "\n",
    "# Clean df\n",
    "X, y = func.clean_data(survey_df.sample(5000, random_state=42), \"Salary\", cat_cols, dummy_na=False)\n",
    "\n",
    "# Create linear regression model with catagorical vars\n",
    "reg, X_train, X_test, y_train, y_test = \\\n",
    "    func.create_linear_mod(X, y)\n",
    "\n",
    "# Scores\n",
    "train_score = reg.score(X_train, y_train)\n",
    "test_score = reg.score(X_test, y_test)\n",
    "\n",
    "print(\"r-squared training score using Catagorical & Numerical variables was {} on {} values\".format(train_score, X_train.shape[0]))\n",
    "print(\"r-squared test score using Catagorical & Numerical variables was {} on {} values\".format(test_score, X_train.shape[0]))"
   ]
  },
  {
   "cell_type": "code",
   "execution_count": 26,
   "metadata": {},
   "outputs": [
    {
     "name": "stdout",
     "output_type": "stream",
     "text": [
      "{'5000': 0.01993130255190556, '3500': 0.01993130255190556, '2500': 0.0061182927639646945, '1000': 0.06219464003405306, '100': 0.49396846926684235, '50': 0.45273960362735544, '10': -0.8285871483536669}\n"
     ]
    },
    {
     "data": {
      "image/png": "[encoded data removed]",
      "text/plain": [
       "<Figure size 640x480 with 1 Axes>"
      ]
     },
     "metadata": {},
     "output_type": "display_data"
    },
    {
     "name": "stdout",
     "output_type": "stream",
     "text": [
      "r-squared training score on optimal feature set was 1.0 on 907 values using 100 features\n",
      "r-squared test score on optimal feature set was 0.5786113868436236 on 907 values using 100 features\n"
     ]
    }
   ],
   "source": [
    "### Select features with cutoffs\n",
    "cutoffs = [5000, 3500, 2500, 1000, 100, 50, 10]\n",
    "\n",
    "best_cutoff, scores_test, scores_train, reg, X_train, X_test, y_train, y_test = \\\n",
    "    func.find_optimal_feature_cutoff(X, y, cutoffs, plot=True)\n",
    "\n",
    "print(\"r-squared training score on optimal feature set was {} on {} values using {} as a cutoff\".format(train_score, X_train.shape[0], best_cutoff))\n",
    "print(\"r-squared test score on optimal feature set was {} on {} values using {} as a cutoff\".format(test_score, X_train.shape[0], best_cutoff))"
   ]
  }
 ],
 "metadata": {
  "kernelspec": {
   "display_name": "udacity",
   "language": "python",
   "name": "python3"
  },
  "language_info": {
   "codemirror_mode": {
    "name": "ipython",
    "version": 3
   },
   "file_extension": ".py",
   "mimetype": "text/x-python",
   "name": "python",
   "nbconvert_exporter": "python",
   "pygments_lexer": "ipython3",
   "version": "3.11.5"
  }
 },
 "nbformat": 4,
 "nbformat_minor": 2
}
